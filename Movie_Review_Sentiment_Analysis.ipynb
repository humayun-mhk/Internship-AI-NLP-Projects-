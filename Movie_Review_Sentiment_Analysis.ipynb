{
  "nbformat": 4,
  "nbformat_minor": 0,
  "metadata": {
    "colab": {
      "provenance": [],
      "authorship_tag": "ABX9TyNCLJ2Ob31LnqGl7Fl+KrUA",
      "include_colab_link": true
    },
    "kernelspec": {
      "name": "python3",
      "display_name": "Python 3"
    },
    "language_info": {
      "name": "python"
    }
  },
  "cells": [
    {
      "cell_type": "markdown",
      "metadata": {
        "id": "view-in-github",
        "colab_type": "text"
      },
      "source": [
        "<a href=\"https://colab.research.google.com/github/humayun-mhk/Internship-AI-NLP-Projects-/blob/main/Movie_Review_Sentiment_Analysis.ipynb\" target=\"_parent\"><img src=\"https://colab.research.google.com/assets/colab-badge.svg\" alt=\"Open In Colab\"/></a>"
      ]
    },
    {
      "cell_type": "code",
      "source": [
        "# importing libraries\n",
        "import pandas as pd\n",
        "import numpy as np\n",
        "import nltk\n",
        "import re\n",
        "import nltk\n",
        "nltk.download('punkt_tab')\n",
        "from sklearn.model_selection import train_test_split\n",
        "from sklearn.feature_extraction.text import TfidfVectorizer, CountVectorizer\n",
        "from sklearn.linear_model import LogisticRegression\n",
        "from sklearn.naive_bayes import MultinomialNB\n",
        "from sklearn.metrics import accuracy_score, f1_score\n",
        "from nltk.tokenize import word_tokenize\n",
        "from nltk.corpus import stopwords\n",
        "from nltk.stem import WordNetLemmatizer, PorterStemmer\n",
        "\n",
        "# Load dataset\n",
        "df = pd.read_csv(\"/content/IMDb Movie Reviews Dataset.csv\", encoding=\"latin1\", on_bad_lines=\"skip\")\n",
        "\n",
        "# Encode sentiment labels\n",
        "df['sentiment'] = df['sentiment'].map({'positive': 1, 'negative': 0})\n",
        "\n",
        "# Drop unwanted columns if they exist\n",
        "if \"Unnamed: 0\" in df.columns:\n",
        "    df.drop(\"Unnamed: 0\", axis=1, inplace=True)\n",
        "\n",
        "# Download necessary NLTK data\n",
        "nltk.download(\"punkt\")\n",
        "nltk.download(\"stopwords\")\n",
        "nltk.download(\"wordnet\")\n",
        "\n",
        "# Preprocessing steps\n",
        "df[\"review\"] = df[\"review\"].astype(str).fillna(\"\").str.lower()\n",
        "\n",
        "# Tokenization\n",
        "df[\"tokenized_words\"] = df[\"review\"].apply(word_tokenize)\n",
        "\n",
        "# Remove stopwords\n",
        "stop_words = set(stopwords.words(\"english\"))\n",
        "df[\"filtered_review\"] = df[\"tokenized_words\"].apply(lambda x: [word for word in x if word.isalpha() and word not in stop_words])\n",
        "\n",
        "# Stemming\n",
        "stemmer = PorterStemmer()\n",
        "df[\"stemmed_review\"] = df[\"filtered_review\"].apply(lambda x: [stemmer.stem(word) for word in x])\n",
        "\n",
        "# Lemmatization\n",
        "lemmatizer = WordNetLemmatizer()\n",
        "df[\"lemmatized_review\"] = df[\"stemmed_review\"].apply(lambda x: [lemmatizer.lemmatize(word) for word in x])\n",
        "\n",
        "# Join words back into sentences\n",
        "df[\"cleaned_review\"] = df[\"lemmatized_review\"].apply(lambda x: \" \".join(x))\n",
        "\n",
        "# Feature Extraction\n",
        "vectorizer = CountVectorizer()\n",
        "tfidf_vectorizer = TfidfVectorizer(strip_accents=\"unicode\", stop_words=\"english\")\n",
        "\n",
        "text_data = df[\"cleaned_review\"]\n",
        "\n",
        "vectorized_data = vectorizer.fit_transform(text_data)\n",
        "tfidf_vectorized_data = tfidf_vectorizer.fit_transform(text_data)\n",
        "\n",
        "# Train-Test Split\n",
        "X = vectorized_data\n",
        "Y = df[\"sentiment\"]\n",
        "X_train, X_test, Y_train, Y_test = train_test_split(X, Y, test_size=0.2, random_state=42)\n",
        "\n",
        "# Logistic Regression Model\n",
        "log_model = LogisticRegression(max_iter=500)\n",
        "log_model.fit(X_train, Y_train)\n",
        "log_pred = log_model.predict(X_test)\n",
        "\n",
        "print(\"Logistic Regression - Accuracy:\", accuracy_score(Y_test, log_pred))\n",
        "print(\"Logistic Regression - F1 Score:\", f1_score(Y_test, log_pred))\n",
        "\n",
        "# Naive Bayes Model\n",
        "nb_model = MultinomialNB()\n",
        "nb_model.fit(X_train, Y_train)\n",
        "nb_prediction = nb_model.predict(X_test)\n",
        "\n",
        "print(\"Naive Bayes - Accuracy:\", accuracy_score(Y_test, nb_prediction))\n",
        "print(\"Naive Bayes - F1 Score:\", f1_score(Y_test, nb_prediction))\n",
        "\n",
        "# Function to preprocess user input\n",
        "def clean_text(text):\n",
        "    text = text.lower()\n",
        "    tokens = word_tokenize(text)\n",
        "    tokens = [word for word in tokens if word.isalpha() and word not in stop_words]\n",
        "    return \" \".join([lemmatizer.lemmatize(word) for word in tokens])\n",
        "\n",
        "# Function to predict sentiment from user input\n",
        "def predict_sentiment(review):\n",
        "    review_cleaned = clean_text(review)\n",
        "    review_vectorized = vectorizer.transform([review_cleaned])\n",
        "    prediction = log_model.predict(review_vectorized)[0]\n",
        "    return \"Positive\" if prediction == 1 else \"Negative\"\n",
        "\n",
        "# Test the function with user input\n",
        "user_review1 = \"This movie was absolutely fantastic!\"\n",
        "user_review2 = \"I regret watching this film, total waste of time.\"\n",
        "\n",
        "print(\"User Review 1 Sentiment:\", predict_sentiment(user_review1))  # Expected: Positive\n",
        "print(\"User Review 2 Sentiment:\", predict_sentiment(user_review2))  # Expected: Negative\n"
      ],
      "metadata": {
        "colab": {
          "base_uri": "https://localhost:8080/"
        },
        "id": "6qM1pkur_Dbw",
        "outputId": "065ce35c-ab18-4429-a5d1-b2406912919c"
      },
      "execution_count": null,
      "outputs": [
        {
          "output_type": "stream",
          "name": "stderr",
          "text": [
            "[nltk_data] Downloading package punkt_tab to /root/nltk_data...\n",
            "[nltk_data]   Unzipping tokenizers/punkt_tab.zip.\n",
            "[nltk_data] Downloading package punkt to /root/nltk_data...\n",
            "[nltk_data]   Package punkt is already up-to-date!\n",
            "[nltk_data] Downloading package stopwords to /root/nltk_data...\n",
            "[nltk_data]   Package stopwords is already up-to-date!\n",
            "[nltk_data] Downloading package wordnet to /root/nltk_data...\n",
            "[nltk_data]   Package wordnet is already up-to-date!\n"
          ]
        },
        {
          "output_type": "stream",
          "name": "stdout",
          "text": [
            "Logistic Regression - Accuracy: 0.8794\n",
            "Logistic Regression - F1 Score: 0.8814159292035398\n",
            "Naive Bayes - Accuracy: 0.8531\n",
            "Naive Bayes - F1 Score: 0.8518406454866364\n",
            "User Review 1 Sentiment: Positive\n",
            "User Review 2 Sentiment: Positive\n"
          ]
        }
      ]
    }
  ]
}